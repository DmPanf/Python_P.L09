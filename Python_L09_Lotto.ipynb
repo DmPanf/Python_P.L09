{
  "nbformat": 4,
  "nbformat_minor": 0,
  "metadata": {
    "colab": {
      "provenance": [],
      "toc_visible": true
    },
    "kernelspec": {
      "name": "python3",
      "display_name": "Python 3"
    },
    "language_info": {
      "name": "python"
    }
  },
  "cells": [
    {
      "cell_type": "code",
      "source": [
        "#@title dop.func\n",
        "# Разовое изменение шрифта\n",
        "import time\n",
        "\n",
        "from IPython.display import Javascript\n",
        "def set_font1():\n",
        "  display(Javascript('''\n",
        "  for (rule of document.styleSheets[0].cssRules){\n",
        "    if (rule.selectorText=='body') {\n",
        "      rule.style.fontSize = '16px'\n",
        "      break\n",
        "    }\n",
        "  }\n",
        "  '''))\n",
        "\n",
        "\n",
        "# Разовое сокращение \n",
        "# from IPython.display import Javascript\n",
        "def frame_height():\n",
        "    display(Javascript('''\n",
        "    google.colab.output.setIframeHeight(0, true, {maxHeight: 550})\n",
        "    '''))\n",
        "\n",
        "print(*time.localtime()[0:3], sep='-')\n",
        "print('✅ Дополнительные функции')"
      ],
      "metadata": {
        "colab": {
          "base_uri": "https://localhost:8080/"
        },
        "id": "vzoLUgGaDWVs",
        "outputId": "a8b2cdee-a57f-4e94-a2bb-4d3f6218b827",
        "cellView": "form"
      },
      "execution_count": 1,
      "outputs": [
        {
          "output_type": "stream",
          "name": "stdout",
          "text": [
            "2023-2-26\n",
            "✅ Дополнительные функции\n"
          ]
        }
      ]
    },
    {
      "cell_type": "markdown",
      "source": [
        "# **♻️ LOTTO**"
      ],
      "metadata": {
        "id": "9L3gpzs7TT5a"
      }
    },
    {
      "cell_type": "code",
      "source": [
        "from random import randint as rnd\n",
        "import os\n",
        "\n",
        "\"\"\"\n",
        "def clear_screen():\n",
        "    # Проверка: Operating System == Mac & Linux || Windows\n",
        "    if os.name == 'posix':\n",
        "        _ = os.system('clear')\n",
        "    else:\n",
        "        # Иначе: Operating System = Windows (os.name = nt)\n",
        "        _ = os.system('cls')\n",
        "\"\"\"\n",
        "\n",
        "from IPython.display import clear_output\n",
        "def clear_screen():\n",
        "    clear_output()\n",
        "\n",
        "\n",
        "def random_list(nums):\n",
        "    r_list = []\n",
        "    while len(r_list) < nums:\n",
        "        rnd_num = rnd(1, 90)\n",
        "        if rnd_num not in r_list:\n",
        "            r_list.append(rnd_num)\n",
        "    return r_list\n",
        "\n",
        "\n",
        "def emoji_digits(num, emoji='⬜️'): # Функция замены чисел значками emoji\n",
        "    digits = ['0️⃣', '1️⃣', '2️⃣', '3️⃣', '4️⃣', '5️⃣', '6️⃣', '7️⃣', '8️⃣', '9️⃣']\n",
        "    if num < 10:\n",
        "        emoji_digits = f'{emoji}{str(digits[num])}' # f'⬜️{str(digits[num])}'\n",
        "    else:\n",
        "        digit1 = int(str(num)[0])\n",
        "        digit2 = int(str(num)[1])\n",
        "        emoji_digits = f'{str(digits[digit1])}{str(digits[digit2])}'\n",
        "    return emoji_digits"
      ],
      "metadata": {
        "id": "daXhmUWJ71sD"
      },
      "execution_count": 2,
      "outputs": []
    },
    {
      "cell_type": "code",
      "source": [
        "from random import randint as rnd\n",
        "\n",
        "#from tools import generate_unique_numbers\n",
        "class Card:\n",
        "    card_rows = 3\n",
        "    card_cols = 9\n",
        "    card_nums_in_row = 5\n",
        "    card_data = None\n",
        "    card_empty_num = 0\n",
        "    card_crossed_num = -1\n",
        "    emj = '⬜️'\n",
        "\n",
        "    def __init__(self, i_user):\n",
        "        uniques_num = self.card_nums_in_row * self.card_rows # количество уникальных чисел 5*3=15\n",
        "        uniques = random_list(uniques_num)\n",
        "        self.emj = Game.card_colors[i_user]\n",
        "\n",
        "        self.card_data = [] #  формирование карточки \n",
        "        for i in range(0, self.card_rows): # перебор 3 рядов (от 0 до 2)\n",
        "            tmp = sorted(uniques[self.card_nums_in_row * i: self.card_nums_in_row * (i + 1)]) # списки [0:5][5:10][10:15]\n",
        "            empty_nums_count = self.card_cols - self.card_nums_in_row  # 9-5=4\n",
        "            for j in range(0, empty_nums_count): # заполняем карточку пробелами (0) на случайных позициях\n",
        "                index = rnd(0, len(tmp))\n",
        "                tmp.insert(index, self.card_empty_num)\n",
        "            self.card_data += tmp   # формируем полную карточку для игры\n",
        "\n",
        "\n",
        "    def __str__(self):  # Функция заполнения карточки с числами графичискими элементами\n",
        "        emj0 = '🔲'\n",
        "        str_line = '〰️' * 26\n",
        "        result = str_line + '\\n'\n",
        "        for index, num in enumerate(self.card_data):\n",
        "            if num == self.card_empty_num:      # заполнение пробелов (=0)\n",
        "                result +=  self.emj * 2     # '⬜️⬜️'\n",
        "            elif num == self.card_crossed_num:  # вместо зачеркнутых чисел\n",
        "                result += self.emj + emj0   # '⬜️🔲'\n",
        "            else:\n",
        "                result += emoji_digits(num, self.emj)\n",
        "\n",
        "            if (index + 1) % self.card_cols == 0:  # Перевод строки за последним числом в ряду\n",
        "                result += '\\n'\n",
        "            else:\n",
        "                result += self.emj          # '⬜️'\n",
        "        return result + str_line\n",
        "\n",
        "\n",
        "    def __contains__(self, item): # метод класса: содержится ли заданный элемент в карточке игрока\n",
        "        is_contains = item in self.card_data\n",
        "        return is_contains\n",
        "\n",
        "\n",
        "    def cross_num(self, num): # функция \"зачеркивания\" чисел на карточке при совпадении\n",
        "        for index, item in enumerate(self.card_data):\n",
        "            if item == num:\n",
        "                self.card_data[index] = self.card_crossed_num\n",
        "                return\n",
        "        raise ValueError(f'❌ На карточке нет числа: {num}')\n",
        "\n",
        "\n",
        "    def closed(self) -> bool:  # если множества равны, то все ячейки на карточке заполнены, и функция возвращает True\n",
        "        is_closed = set(self.card_data) == {self.card_empty_num, self.card_crossed_num}\n",
        "        return is_closed"
      ],
      "metadata": {
        "id": "WsmGyn267t4Y"
      },
      "execution_count": 3,
      "outputs": []
    },
    {
      "cell_type": "code",
      "source": [
        "import time\n",
        "class Game:\n",
        "    player_cards = []\n",
        "    game_barrels = []\n",
        "    card_colors = ['⬜️', '🟥', '🟨', '🟦', '🟧', '🟪', '🟫', '🟩']\n",
        "    user_icons = ['🤖 RO-Bot', '🚗', '🚕', '🚙', '🚚', '🚑', '🚒', '🚜']\n",
        "\n",
        "    def __init__(self, gamers_count):\n",
        "        gamers_max = 2 if gamers_count < 3 else gamers_count\n",
        "        for i in range(gamers_max):\n",
        "            self.player_cards.append(Card(i+1))\n",
        "        self.game_barrels = random_list(90)\n",
        "\n",
        "    def ask_to_cross(self, game_user_card, barrel) -> bool:\n",
        "        # При выборе \"зачеркнуть\": если цифры на карточке нет - игрок проигрывает, и игра завершается\n",
        "        # При выборе \"продолжить\": если цифра есть на карточке - игрок проигрывает, и игра завершается\n",
        "        # ... иначе - игра продолжается!\n",
        "        y_n = input('... зачеркнуть [y] ... нет, продолжить [n]: ').lower().strip()\n",
        "        if y_n == 'y' and not barrel in game_user_card or y_n != 'y' and barrel in game_user_card:\n",
        "            return False   \n",
        "        return True   \n",
        "\n",
        "\n",
        "    def check_winner_card(self, game_user_card, barrel):\n",
        "        if barrel in game_user_card:          # зачеркиваем число в карточке текущего игрока (при наличии)\n",
        "            game_user_card.cross_num(barrel)\n",
        "            if game_user_card.closed():       # если карточка текущего игрока полностью закрыта, то победа!\n",
        "                return True                   # объявляем победителя\n",
        "        return False                          # продолжаем игру\n",
        "\n",
        "\n",
        "    def play_round(self):\n",
        "        # функция выдает комбинацию status и номер user (int)\n",
        "        # user=-1 с проигравшим или победителем не определились: продолжаем игру\n",
        "        # если False, то игра прекращается и возвращаем номер проигравшего\n",
        "        # если True, то игра прекращается и возвращаем номер победителя\n",
        "        status = False # статус: False=мгновенный проигрыш или True=выигрыш конкретного игрока\n",
        "        barrel = self.game_barrels.pop()\n",
        "        emoji_barrel = emoji_digits(barrel)\n",
        "        print(f'\\n🎲 Фишка №: {emoji_barrel}  [{90-len(self.game_barrels)}/{len(self.game_barrels)}]')\n",
        "        for i, card in enumerate(self.player_cards):\n",
        "            if gamers_count == 0 or (gamers_count == 1 and i == 0): # Для игр: Бот <-> Бот или Бот <-> Человек\n",
        "                print(f'\\n{self.card_colors[i+1]} Карточка {self.user_icons[0]}-{i+1}\\n{card}')\n",
        "                time.sleep(0.5)                                     # для Бота вопрос \"что делать?\" опускаем - пауза для наглядности\n",
        "            else:                                                   #\n",
        "                print(f'\\n{self.card_colors[i+1]} Карточка игрока {i+1} [{self.user_icons[i+1]}]\\n{card}')\n",
        "                status = self.ask_to_cross(card, barrel)            # для игроков запрашиваем, что делать: зачеркнуть [y], иначе - дальше\n",
        "                if not status:                                      # если игрок ошибся (False), то прекращаем игру \n",
        "                    return status, i+1                              # 🆘 возвращаем номер проигравшего игрока (поэтому номер на 1 больше)\n",
        "            status = self.check_winner_card(card, barrel)           # проверяем остаток незачеркнутых чисел в карточке текущего Бота/игрока\n",
        "            if status:                                              # если на карточке не осталось чисел, то - окончание игры\n",
        "                return status, i+1                                  # ✅ при заполнненой карточке объявляем победителя\n",
        "        \n",
        "        time.sleep(0.2)\n",
        "        clear_screen()\n",
        "        return status, -1                                          # [-1] с проигравшим или победителем не определились: продолжаем игру"
      ],
      "metadata": {
        "id": "MCZFo-X72RAx"
      },
      "execution_count": 4,
      "outputs": []
    },
    {
      "cell_type": "code",
      "source": [
        "# from games import Game\n",
        "info = \"\"\"\n",
        "    Варианты игры:\n",
        "    0    компьютер <-> компьютер\n",
        "    1    человек <-> компьютер\n",
        "    2    человек <-> человек\n",
        "    3-7  От 3 и до 7 человек между собой\n",
        "\"\"\"\n",
        "\n",
        "if __name__ == '__main__':\n",
        "    print(f'\\n{info}')\n",
        "    try:\n",
        "        gamers_count = int(input(f'\\n💠 Для выбора игры выбрать число от 0 до 7: '))\n",
        "        if gamers_count not in range(0,8):\n",
        "            raise ValueError('⛔️ Ошибка выбора игры!')\n",
        "        lotto_game = Game(gamers_count)\n",
        "    except ValueError as error:\n",
        "        print(error)\n",
        "        \n",
        "\n",
        "    while True:\n",
        "        status, result = lotto_game.play_round() # Возвращается False (мгновенный проигрыш) или True (выигрыш) + номер Игрока\n",
        "        if result != -1:  # для продолжения игры возвращается -1, иначе индекс победившего игрока (0=Bot)\n",
        "            w = '〰️' * 16\n",
        "            if gamers_count > 0:\n",
        "                user = '🤖 RO-Bot-1 !' if result == 0 else f'Игрок {result} {Game.user_icons[result]}'\n",
        "            else: # gamers_count == 0\n",
        "                user = f'🤖 RO-Bot {result}!'\n",
        "            if status:\n",
        "                print(f'\\n{w}\\n🥇🥇🥇 Победил {user} 🎉🎉🎉\\n{w}')\n",
        "            else:\n",
        "                print(f'\\n{w}\\n🆘 {user} проиграл ...\\n{w}')\n",
        "            break # останов игры "
      ],
      "metadata": {
        "colab": {
          "base_uri": "https://localhost:8080/"
        },
        "id": "uJrTmrXT74UU",
        "outputId": "164ed4a2-417b-4df5-c869-2ca5dc60fe81"
      },
      "execution_count": 5,
      "outputs": [
        {
          "output_type": "stream",
          "name": "stdout",
          "text": [
            "\n",
            "🎲 Фишка №: ⬜️1️⃣  [89/1]\n",
            "\n",
            "🟥 Карточка 🤖 RO-Bot-1\n",
            "〰️〰️〰️〰️〰️〰️〰️〰️〰️〰️〰️〰️〰️〰️〰️〰️〰️〰️〰️〰️〰️〰️〰️〰️〰️〰️\n",
            "🟥🟥🟥🟥🔲🟥🟥🔲🟥🟥🔲🟥🟥🔲🟥🟥🟥🟥🟥🟥🟥🟥🔲🟥🟥🟥\n",
            "🟥1️⃣🟥🟥🔲🟥🟥🟥🟥🟥🔲🟥🟥🟥🟥🟥🟥🟥🟥🔲🟥🟥🔲🟥🟥🟥\n",
            "🟥🔲🟥🟥🔲🟥🟥🔲🟥🟥🟥🟥🟥🔲🟥🟥🟥🟥🟥🟥🟥🟥🔲🟥🟥🟥\n",
            "〰️〰️〰️〰️〰️〰️〰️〰️〰️〰️〰️〰️〰️〰️〰️〰️〰️〰️〰️〰️〰️〰️〰️〰️〰️〰️\n",
            "\n",
            "〰️〰️〰️〰️〰️〰️〰️〰️〰️〰️〰️〰️〰️〰️〰️〰️\n",
            "🥇🥇🥇 Победил 🤖 RO_Bot 1! 🎉🎉🎉\n",
            "〰️〰️〰️〰️〰️〰️〰️〰️〰️〰️〰️〰️〰️〰️〰️〰️\n"
          ]
        }
      ]
    }
  ]
}
